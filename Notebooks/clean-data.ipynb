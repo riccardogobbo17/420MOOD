{
 "cells": [
  {
   "cell_type": "code",
   "execution_count": 4,
   "metadata": {},
   "outputs": [],
   "source": [
    "import os\n",
    "import pandas as pd\n",
    "\n",
    "ROOT_DIR = \"../FMP\"  # Cambia qui se la cartella principale ha un altro nome\n"
   ]
  },
  {
   "cell_type": "code",
   "execution_count": 5,
   "metadata": {},
   "outputs": [],
   "source": [
    "\n",
    "def process_events_csv(filepath):\n",
    "    try:\n",
    "        df = pd.read_csv(filepath)\n",
    "        if \"Evento\" not in df.columns or \"Casella di gruppo\" not in df.columns:\n",
    "            print(f\"⚠️  Colonne mancanti in {filepath}. Skippato.\")\n",
    "            return 0, False\n",
    "\n",
    "        # Quante righe sistemiamo?\n",
    "        mask = df[\"Evento\"].isna() & df[\"Casella di gruppo\"].notna()\n",
    "        n_fixed = mask.sum()\n",
    "\n",
    "        if n_fixed > 0:\n",
    "            df.loc[mask, \"Evento\"] = df.loc[mask, \"Casella di gruppo\"]\n",
    "\n",
    "        # Elimina la colonna\n",
    "        if \"Casella di gruppo\" in df.columns:\n",
    "            df = df.drop(columns=[\"Casella di gruppo\"])\n",
    "\n",
    "        # Sovrascrivi il file solo se abbiamo fatto modifiche\n",
    "        if n_fixed > 0 or \"Casella di gruppo\" in df.columns:\n",
    "            df.to_csv(filepath, index=False)\n",
    "            return n_fixed, True\n",
    "\n",
    "        return 0, False\n",
    "\n",
    "    except Exception as e:\n",
    "        print(f\"❌ Errore su {filepath}: {e}\")\n",
    "        return 0, False\n",
    "\n",
    "def scan_and_process(root_dir):\n",
    "    report = []\n",
    "    for subdir, dirs, files in os.walk(root_dir):\n",
    "        for file in files:\n",
    "            if file == \"events.csv\":\n",
    "                filepath = os.path.join(subdir, file)\n",
    "                n_fixed, modified = process_events_csv(filepath)\n",
    "                report.append((filepath, n_fixed, modified))\n",
    "    return report\n",
    "\n"
   ]
  },
  {
   "cell_type": "code",
   "execution_count": 6,
   "metadata": {},
   "outputs": [
    {
     "name": "stdout",
     "output_type": "stream",
     "text": [
      "⚠️  Colonne mancanti in FMP/Coppa/Jesolo/events.csv. Skippato.\n",
      "⚠️  Colonne mancanti in FMP/Coppa/Conegliano/events.csv. Skippato.\n",
      "⚠️  Colonne mancanti in FMP/Coppa/Miti/events.csv. Skippato.\n",
      "⚠️  Colonne mancanti in FMP/Campionato/Jesolo/events.csv. Skippato.\n",
      "\n",
      "=== REPORT FINALE ===\n",
      "FMP/Coppa/Jesolo/events.csv -> OK (nessuna modifica) | Eventi sistemati: 0\n",
      "FMP/Coppa/Conegliano/events.csv -> OK (nessuna modifica) | Eventi sistemati: 0\n",
      "FMP/Coppa/Miti/events.csv -> OK (nessuna modifica) | Eventi sistemati: 0\n",
      "FMP/Campionato/Jesolo/events.csv -> OK (nessuna modifica) | Eventi sistemati: 0\n"
     ]
    }
   ],
   "source": [
    "report = scan_and_process(ROOT_DIR)\n",
    "print(\"\\n=== REPORT FINALE ===\")\n",
    "for filepath, n_fixed, modified in report:\n",
    "    status = \"Aggiornato\" if modified else \"OK (nessuna modifica)\"\n",
    "    print(f\"{filepath} -> {status} | Eventi sistemati: {n_fixed}\")"
   ]
  },
  {
   "cell_type": "code",
   "execution_count": null,
   "metadata": {},
   "outputs": [],
   "source": []
  }
 ],
 "metadata": {
  "kernelspec": {
   "display_name": "football",
   "language": "python",
   "name": "python3"
  },
  "language_info": {
   "codemirror_mode": {
    "name": "ipython",
    "version": 3
   },
   "file_extension": ".py",
   "mimetype": "text/x-python",
   "name": "python",
   "nbconvert_exporter": "python",
   "pygments_lexer": "ipython3",
   "version": "3.12.3"
  }
 },
 "nbformat": 4,
 "nbformat_minor": 2
}
