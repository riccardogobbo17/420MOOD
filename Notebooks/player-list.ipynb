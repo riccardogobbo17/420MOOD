{
 "cells": [
  {
   "cell_type": "code",
   "execution_count": 15,
   "metadata": {},
   "outputs": [],
   "source": [
    "import os\n",
    "import pandas as pd\n",
    "\n",
    "ROOT_DIR = \"../FMP\"  # Cartella principale da cui partire (adatta il nome se serve)"
   ]
  },
  {
   "cell_type": "code",
   "execution_count": 18,
   "metadata": {},
   "outputs": [],
   "source": [
    "def estrai_giocatori_da_events(root_dir):\n",
    "    giocatori = set()\n",
    "    portieri = set()\n",
    "    for subdir, dirs, files in os.walk(root_dir):\n",
    "        for file in files:\n",
    "            if file != \"events.csv\":\n",
    "                continue  # ignora tutto ciò che NON è events.csv\n",
    "            path = os.path.join(subdir, file)\n",
    "            try:\n",
    "                df = pd.read_csv(path)\n",
    "                # Prendi tutte le colonne \"Quartetto\"\n",
    "                quartetto_cols = [c for c in df.columns if \"Quartetto\" in c]\n",
    "                for col in quartetto_cols:\n",
    "                    giocatori.update(df[col].dropna().astype(str).str.strip().str.lower().tolist())\n",
    "                # Portiere\n",
    "                portieri.update(df[\"Portiere\"].dropna().astype(str).str.strip().str.lower().tolist())\n",
    "            except Exception as e:\n",
    "                print(f\"Errore su {path}: {e}\")\n",
    "    # Ruolo: GK se mai portiere, altrimenti Player\n",
    "    tutti = giocatori | portieri\n",
    "    rows = []\n",
    "    for i, nome in enumerate(sorted(tutti)):\n",
    "        ruolo = \"GK\" if nome in portieri else \"Player\"\n",
    "        rows.append({\"id\": i+1, \"nome\": nome, \"ruolo\": ruolo})\n",
    "    return pd.DataFrame(rows)\n"
   ]
  },
  {
   "cell_type": "code",
   "execution_count": 19,
   "metadata": {},
   "outputs": [
    {
     "name": "stdout",
     "output_type": "stream",
     "text": [
      "    id           nome   ruolo\n",
      "0    1           azza  Player\n",
      "1    2           bara      GK\n",
      "2    3           deba  Player\n",
      "3    4       diego jr  Player\n",
      "4    5          digao  Player\n",
      "5    6          erick  Player\n",
      "6    7          fabri  Player\n",
      "7    8          giovi      GK\n",
      "8    9         mattia  Player\n",
      "9   10            nic  Player\n",
      "10  11  nico estratti  Player\n",
      "11  12          ricky  Player\n",
      "12  13         scanta  Player\n",
      "13  14          zanna  Player\n",
      "Salvato come giocatori.csv\n"
     ]
    }
   ],
   "source": [
    "giocatori = estrai_giocatori_da_events(ROOT_DIR)\n",
    "giocatori.to_csv(\"giocatori.csv\", index=False)\n",
    "print(giocatori)\n",
    "print(\"Salvato come giocatori.csv\")"
   ]
  },
  {
   "cell_type": "code",
   "execution_count": null,
   "metadata": {},
   "outputs": [],
   "source": []
  }
 ],
 "metadata": {
  "kernelspec": {
   "display_name": "football",
   "language": "python",
   "name": "python3"
  },
  "language_info": {
   "codemirror_mode": {
    "name": "ipython",
    "version": 3
   },
   "file_extension": ".py",
   "mimetype": "text/x-python",
   "name": "python",
   "nbconvert_exporter": "python",
   "pygments_lexer": "ipython3",
   "version": "3.12.3"
  }
 },
 "nbformat": 4,
 "nbformat_minor": 2
}
